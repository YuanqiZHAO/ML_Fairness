{
  "nbformat": 4,
  "nbformat_minor": 0,
  "metadata": {
    "colab": {
      "name": "Fairness.ipynb",
      "provenance": [],
      "collapsed_sections": []
    },
    "kernelspec": {
      "name": "python3",
      "display_name": "Python 3"
    },
    "language_info": {
      "name": "python"
    }
  },
  "cells": [
    {
      "cell_type": "code",
      "metadata": {
        "colab": {
          "base_uri": "https://localhost:8080/"
        },
        "id": "lkYH6NunIPrX",
        "outputId": "d0e8f506-4fed-4e26-b556-892124d07977"
      },
      "source": [
        "from google.colab import drive\n",
        "drive.mount('/content/drive')"
      ],
      "execution_count": 5,
      "outputs": [
        {
          "output_type": "stream",
          "text": [
            "Drive already mounted at /content/drive; to attempt to forcibly remount, call drive.mount(\"/content/drive\", force_remount=True).\n"
          ],
          "name": "stdout"
        }
      ]
    },
    {
      "cell_type": "code",
      "metadata": {
        "colab": {
          "base_uri": "https://localhost:8080/"
        },
        "id": "qBtUyalBKe54",
        "outputId": "4f1b8c14-34e4-4f97-a3e8-ff1c7015ef95"
      },
      "source": [
        "#Load the librarys\n",
        "import pandas as pd #To work with dataset\n",
        "import numpy as np #Math library\n",
        "import seaborn as sns #Graph library that use matplot in background\n",
        "import matplotlib.pyplot as plt #to plot some parameters in seaborn\n",
        "\n",
        "#Importing the data\n",
        "df_credit =  pd.read_csv('drive/MyDrive/Colab_Notebooks/german_credit_data.csv',index_col=0)\n",
        "print(df_credit.info())"
      ],
      "execution_count": 6,
      "outputs": [
        {
          "output_type": "stream",
          "text": [
            "<class 'pandas.core.frame.DataFrame'>\n",
            "Int64Index: 1000 entries, 0 to 999\n",
            "Data columns (total 10 columns):\n",
            " #   Column            Non-Null Count  Dtype \n",
            "---  ------            --------------  ----- \n",
            " 0   Age               1000 non-null   int64 \n",
            " 1   Sex               1000 non-null   object\n",
            " 2   Job               1000 non-null   int64 \n",
            " 3   Housing           1000 non-null   object\n",
            " 4   Saving accounts   817 non-null    object\n",
            " 5   Checking account  606 non-null    object\n",
            " 6   Credit amount     1000 non-null   int64 \n",
            " 7   Duration          1000 non-null   int64 \n",
            " 8   Purpose           1000 non-null   object\n",
            " 9   Risk              1000 non-null   object\n",
            "dtypes: int64(4), object(6)\n",
            "memory usage: 85.9+ KB\n",
            "None\n"
          ],
          "name": "stdout"
        }
      ]
    },
    {
      "cell_type": "code",
      "metadata": {
        "id": "0Ui-pcfHNuNS"
      },
      "source": [
        "def one_hot_encoder(df, nan_as_category = False):\n",
        "    original_columns = list(df.columns)\n",
        "    categorical_columns = [col for col in df.columns if df[col].dtype == 'object']\n",
        "    df = pd.get_dummies(df, columns= categorical_columns, dummy_na= nan_as_category, drop_first=True)\n",
        "    new_columns = [c for c in df.columns if c not in original_columns]\n",
        "    return df, new_columns"
      ],
      "execution_count": 7,
      "outputs": []
    },
    {
      "cell_type": "code",
      "metadata": {
        "id": "iDw8J8f7O4lW"
      },
      "source": [
        "interval = (18, 25, 35, 60, 120)\n",
        "\n",
        "cats = ['Student', 'Young', 'Adult', 'Senior']\n",
        "df_credit[\"Age_cat\"] = pd.cut(df_credit.Age, interval, labels=cats)\n",
        "\n",
        "df_credit['Saving accounts'] = df_credit['Saving accounts'].fillna('no_inf')\n",
        "df_credit['Checking account'] = df_credit['Checking account'].fillna('no_inf')\n",
        "\n",
        "#Purpose to Dummies Variable\n",
        "df_credit = df_credit.merge(pd.get_dummies(df_credit.Purpose, drop_first=True, prefix='Purpose'), left_index=True, right_index=True)\n",
        "#Sex feature in dummies\n",
        "df_credit = df_credit.merge(pd.get_dummies(df_credit.Sex, drop_first=True, prefix='Sex'), left_index=True, right_index=True)\n",
        "# Housing get dummies\n",
        "df_credit = df_credit.merge(pd.get_dummies(df_credit.Housing, drop_first=True, prefix='Housing'), left_index=True, right_index=True)\n",
        "# Housing get Saving Accounts\n",
        "df_credit = df_credit.merge(pd.get_dummies(df_credit[\"Saving accounts\"], drop_first=True, prefix='Savings'), left_index=True, right_index=True)\n",
        "# Housing get Risk\n",
        "df_credit = df_credit.merge(pd.get_dummies(df_credit.Risk, prefix='Risk'), left_index=True, right_index=True)\n",
        "# Housing get Checking Account\n",
        "df_credit = df_credit.merge(pd.get_dummies(df_credit[\"Checking account\"], drop_first=True, prefix='Check'), left_index=True, right_index=True)\n",
        "# Housing get Age categorical\n",
        "df_credit = df_credit.merge(pd.get_dummies(df_credit[\"Age_cat\"], drop_first=True, prefix='Age_cat'), left_index=True, right_index=True)"
      ],
      "execution_count": 8,
      "outputs": []
    },
    {
      "cell_type": "code",
      "metadata": {
        "id": "C4xwtxFOP29B"
      },
      "source": [
        "#Excluding the missing columns\n",
        "del df_credit[\"Saving accounts\"]\n",
        "del df_credit[\"Checking account\"]\n",
        "del df_credit[\"Purpose\"]\n",
        "del df_credit[\"Sex\"]\n",
        "del df_credit[\"Housing\"]\n",
        "del df_credit[\"Age_cat\"]\n",
        "del df_credit[\"Risk\"]\n",
        "del df_credit['Risk_good']"
      ],
      "execution_count": 9,
      "outputs": []
    },
    {
      "cell_type": "code",
      "metadata": {
        "id": "W5qP_eyeP8tG"
      },
      "source": [
        "from sklearn.model_selection import train_test_split, KFold, cross_val_score # to split the data\n",
        "from sklearn.metrics import accuracy_score, confusion_matrix, classification_report, fbeta_score #To evaluate our model\n",
        "\n",
        "from sklearn.model_selection import GridSearchCV\n",
        "\n",
        "# Algorithmns models to be compared\n",
        "from sklearn.ensemble import RandomForestClassifier\n",
        "from sklearn.linear_model import LogisticRegression\n",
        "from sklearn.tree import DecisionTreeClassifier\n",
        "from sklearn.neighbors import KNeighborsClassifier\n",
        "from sklearn.ensemble import RandomForestClassifier\n",
        "from sklearn.discriminant_analysis import LinearDiscriminantAnalysis\n",
        "from sklearn.naive_bayes import GaussianNB\n",
        "from sklearn.svm import SVC\n",
        "from xgboost import XGBClassifier"
      ],
      "execution_count": 10,
      "outputs": []
    },
    {
      "cell_type": "code",
      "metadata": {
        "id": "y1iRgKyBQO1F"
      },
      "source": [
        "df_credit['Credit amount'] = np.log(df_credit['Credit amount'])\n"
      ],
      "execution_count": 11,
      "outputs": []
    },
    {
      "cell_type": "code",
      "metadata": {
        "colab": {
          "base_uri": "https://localhost:8080/",
          "height": 241
        },
        "id": "Tyz31eWiYN6Y",
        "outputId": "fe94da81-e823-4499-ebdb-d23c77dbe9b9"
      },
      "source": [
        "df_credit[:5]"
      ],
      "execution_count": 12,
      "outputs": [
        {
          "output_type": "execute_result",
          "data": {
            "text/html": [
              "<div>\n",
              "<style scoped>\n",
              "    .dataframe tbody tr th:only-of-type {\n",
              "        vertical-align: middle;\n",
              "    }\n",
              "\n",
              "    .dataframe tbody tr th {\n",
              "        vertical-align: top;\n",
              "    }\n",
              "\n",
              "    .dataframe thead th {\n",
              "        text-align: right;\n",
              "    }\n",
              "</style>\n",
              "<table border=\"1\" class=\"dataframe\">\n",
              "  <thead>\n",
              "    <tr style=\"text-align: right;\">\n",
              "      <th></th>\n",
              "      <th>Age</th>\n",
              "      <th>Job</th>\n",
              "      <th>Credit amount</th>\n",
              "      <th>Duration</th>\n",
              "      <th>Purpose_car</th>\n",
              "      <th>Purpose_domestic appliances</th>\n",
              "      <th>Purpose_education</th>\n",
              "      <th>Purpose_furniture/equipment</th>\n",
              "      <th>Purpose_radio/TV</th>\n",
              "      <th>Purpose_repairs</th>\n",
              "      <th>Purpose_vacation/others</th>\n",
              "      <th>Sex_male</th>\n",
              "      <th>Housing_own</th>\n",
              "      <th>Housing_rent</th>\n",
              "      <th>Savings_moderate</th>\n",
              "      <th>Savings_no_inf</th>\n",
              "      <th>Savings_quite rich</th>\n",
              "      <th>Savings_rich</th>\n",
              "      <th>Risk_bad</th>\n",
              "      <th>Check_moderate</th>\n",
              "      <th>Check_no_inf</th>\n",
              "      <th>Check_rich</th>\n",
              "      <th>Age_cat_Young</th>\n",
              "      <th>Age_cat_Adult</th>\n",
              "      <th>Age_cat_Senior</th>\n",
              "    </tr>\n",
              "  </thead>\n",
              "  <tbody>\n",
              "    <tr>\n",
              "      <th>0</th>\n",
              "      <td>67</td>\n",
              "      <td>2</td>\n",
              "      <td>7.063904</td>\n",
              "      <td>6</td>\n",
              "      <td>0</td>\n",
              "      <td>0</td>\n",
              "      <td>0</td>\n",
              "      <td>0</td>\n",
              "      <td>1</td>\n",
              "      <td>0</td>\n",
              "      <td>0</td>\n",
              "      <td>1</td>\n",
              "      <td>1</td>\n",
              "      <td>0</td>\n",
              "      <td>0</td>\n",
              "      <td>1</td>\n",
              "      <td>0</td>\n",
              "      <td>0</td>\n",
              "      <td>0</td>\n",
              "      <td>0</td>\n",
              "      <td>0</td>\n",
              "      <td>0</td>\n",
              "      <td>0</td>\n",
              "      <td>0</td>\n",
              "      <td>1</td>\n",
              "    </tr>\n",
              "    <tr>\n",
              "      <th>1</th>\n",
              "      <td>22</td>\n",
              "      <td>2</td>\n",
              "      <td>8.691315</td>\n",
              "      <td>48</td>\n",
              "      <td>0</td>\n",
              "      <td>0</td>\n",
              "      <td>0</td>\n",
              "      <td>0</td>\n",
              "      <td>1</td>\n",
              "      <td>0</td>\n",
              "      <td>0</td>\n",
              "      <td>0</td>\n",
              "      <td>1</td>\n",
              "      <td>0</td>\n",
              "      <td>0</td>\n",
              "      <td>0</td>\n",
              "      <td>0</td>\n",
              "      <td>0</td>\n",
              "      <td>1</td>\n",
              "      <td>1</td>\n",
              "      <td>0</td>\n",
              "      <td>0</td>\n",
              "      <td>0</td>\n",
              "      <td>0</td>\n",
              "      <td>0</td>\n",
              "    </tr>\n",
              "    <tr>\n",
              "      <th>2</th>\n",
              "      <td>49</td>\n",
              "      <td>1</td>\n",
              "      <td>7.647786</td>\n",
              "      <td>12</td>\n",
              "      <td>0</td>\n",
              "      <td>0</td>\n",
              "      <td>1</td>\n",
              "      <td>0</td>\n",
              "      <td>0</td>\n",
              "      <td>0</td>\n",
              "      <td>0</td>\n",
              "      <td>1</td>\n",
              "      <td>1</td>\n",
              "      <td>0</td>\n",
              "      <td>0</td>\n",
              "      <td>0</td>\n",
              "      <td>0</td>\n",
              "      <td>0</td>\n",
              "      <td>0</td>\n",
              "      <td>0</td>\n",
              "      <td>1</td>\n",
              "      <td>0</td>\n",
              "      <td>0</td>\n",
              "      <td>1</td>\n",
              "      <td>0</td>\n",
              "    </tr>\n",
              "    <tr>\n",
              "      <th>3</th>\n",
              "      <td>45</td>\n",
              "      <td>2</td>\n",
              "      <td>8.972337</td>\n",
              "      <td>42</td>\n",
              "      <td>0</td>\n",
              "      <td>0</td>\n",
              "      <td>0</td>\n",
              "      <td>1</td>\n",
              "      <td>0</td>\n",
              "      <td>0</td>\n",
              "      <td>0</td>\n",
              "      <td>1</td>\n",
              "      <td>0</td>\n",
              "      <td>0</td>\n",
              "      <td>0</td>\n",
              "      <td>0</td>\n",
              "      <td>0</td>\n",
              "      <td>0</td>\n",
              "      <td>0</td>\n",
              "      <td>0</td>\n",
              "      <td>0</td>\n",
              "      <td>0</td>\n",
              "      <td>0</td>\n",
              "      <td>1</td>\n",
              "      <td>0</td>\n",
              "    </tr>\n",
              "    <tr>\n",
              "      <th>4</th>\n",
              "      <td>53</td>\n",
              "      <td>2</td>\n",
              "      <td>8.490849</td>\n",
              "      <td>24</td>\n",
              "      <td>1</td>\n",
              "      <td>0</td>\n",
              "      <td>0</td>\n",
              "      <td>0</td>\n",
              "      <td>0</td>\n",
              "      <td>0</td>\n",
              "      <td>0</td>\n",
              "      <td>1</td>\n",
              "      <td>0</td>\n",
              "      <td>0</td>\n",
              "      <td>0</td>\n",
              "      <td>0</td>\n",
              "      <td>0</td>\n",
              "      <td>0</td>\n",
              "      <td>1</td>\n",
              "      <td>0</td>\n",
              "      <td>0</td>\n",
              "      <td>0</td>\n",
              "      <td>0</td>\n",
              "      <td>1</td>\n",
              "      <td>0</td>\n",
              "    </tr>\n",
              "  </tbody>\n",
              "</table>\n",
              "</div>"
            ],
            "text/plain": [
              "   Age  Job  Credit amount  ...  Age_cat_Young  Age_cat_Adult  Age_cat_Senior\n",
              "0   67    2       7.063904  ...              0              0               1\n",
              "1   22    2       8.691315  ...              0              0               0\n",
              "2   49    1       7.647786  ...              0              1               0\n",
              "3   45    2       8.972337  ...              0              1               0\n",
              "4   53    2       8.490849  ...              0              1               0\n",
              "\n",
              "[5 rows x 25 columns]"
            ]
          },
          "metadata": {
            "tags": []
          },
          "execution_count": 12
        }
      ]
    },
    {
      "cell_type": "code",
      "metadata": {
        "colab": {
          "base_uri": "https://localhost:8080/"
        },
        "id": "f-VtnWMnechv",
        "outputId": "e75ae234-7412-43a5-bf6a-3d4c426a366d"
      },
      "source": [
        "df_credit.columns[22:25]"
      ],
      "execution_count": 13,
      "outputs": [
        {
          "output_type": "execute_result",
          "data": {
            "text/plain": [
              "Index(['Age_cat_Young', 'Age_cat_Adult', 'Age_cat_Senior'], dtype='object')"
            ]
          },
          "metadata": {
            "tags": []
          },
          "execution_count": 13
        }
      ]
    },
    {
      "cell_type": "code",
      "metadata": {
        "id": "xKCj4oGhQRCE"
      },
      "source": [
        "#Creating the X and y variables\n",
        "X = df_credit.drop('Risk_bad', 1).values\n",
        "y = df_credit[\"Risk_bad\"].values\n",
        "\n",
        "# Spliting X and y into train and test version\n",
        "X_train, X_test, y_train, y_test = train_test_split(X, y, test_size = 0.25, random_state=42)"
      ],
      "execution_count": 14,
      "outputs": []
    },
    {
      "cell_type": "code",
      "metadata": {
        "id": "f33emN4wRMiE"
      },
      "source": [
        "from sklearn.utils import resample\n",
        "from sklearn.metrics import roc_curve\n",
        "from sklearn import metrics\n",
        "from sklearn.metrics import f1_score"
      ],
      "execution_count": 15,
      "outputs": []
    },
    {
      "cell_type": "code",
      "metadata": {
        "colab": {
          "base_uri": "https://localhost:8080/"
        },
        "id": "FPmJElpbSlRB",
        "outputId": "0e070927-780a-4672-9920-f31a43130f2c"
      },
      "source": [
        "#Seting the Hyper Parameters\n",
        "param_test1 = {\n",
        " 'max_depth':[3,5,6,10],\n",
        " 'min_child_weight':[3,5,10],\n",
        " 'gamma':[0.0, 0.1, 0.2, 0.3, 0.4],\n",
        "# 'reg_alpha':[1e-5, 1e-2, 0.1, 1, 10],\n",
        " 'subsample':[i/100.0 for i in range(75,90,5)],\n",
        " 'colsample_bytree':[i/100.0 for i in range(75,90,5)]\n",
        "}\n",
        "\n",
        "#Creating the classifier\n",
        "model_xg = XGBClassifier(random_state=2)\n",
        "\n",
        "grid_search = GridSearchCV(model_xg, param_grid=param_test1, cv=5, scoring='recall')\n",
        "grid_search.fit(X_train, y_train)"
      ],
      "execution_count": 16,
      "outputs": [
        {
          "output_type": "execute_result",
          "data": {
            "text/plain": [
              "GridSearchCV(cv=5, error_score=nan,\n",
              "             estimator=XGBClassifier(base_score=0.5, booster='gbtree',\n",
              "                                     colsample_bylevel=1, colsample_bynode=1,\n",
              "                                     colsample_bytree=1, gamma=0,\n",
              "                                     learning_rate=0.1, max_delta_step=0,\n",
              "                                     max_depth=3, min_child_weight=1,\n",
              "                                     missing=None, n_estimators=100, n_jobs=1,\n",
              "                                     nthread=None, objective='binary:logistic',\n",
              "                                     random_state=2, reg_alpha=0, reg_lambda=1,\n",
              "                                     scale_pos_weight=1, seed=None, silent=None,\n",
              "                                     subsample=1, verbosity=1),\n",
              "             iid='deprecated', n_jobs=None,\n",
              "             param_grid={'colsample_bytree': [0.75, 0.8, 0.85],\n",
              "                         'gamma': [0.0, 0.1, 0.2, 0.3, 0.4],\n",
              "                         'max_depth': [3, 5, 6, 10],\n",
              "                         'min_child_weight': [3, 5, 10],\n",
              "                         'subsample': [0.75, 0.8, 0.85]},\n",
              "             pre_dispatch='2*n_jobs', refit=True, return_train_score=False,\n",
              "             scoring='recall', verbose=0)"
            ]
          },
          "metadata": {
            "tags": []
          },
          "execution_count": 16
        }
      ]
    },
    {
      "cell_type": "code",
      "metadata": {
        "colab": {
          "base_uri": "https://localhost:8080/"
        },
        "id": "TOIDEtO-SmRj",
        "outputId": "c8efea18-9651-49c5-921c-6e225b56bb8e"
      },
      "source": [
        "y_pred = grid_search.predict(X_test)\n",
        "\n",
        "# Verificaar os resultados obtidos\n",
        "print(accuracy_score(y_test,y_pred))\n",
        "print(\"\\n\")\n",
        "print(confusion_matrix(y_test, y_pred))"
      ],
      "execution_count": 17,
      "outputs": [
        {
          "output_type": "stream",
          "text": [
            "0.756\n",
            "\n",
            "\n",
            "[[157  21]\n",
            " [ 40  32]]\n"
          ],
          "name": "stdout"
        }
      ]
    },
    {
      "cell_type": "code",
      "metadata": {
        "colab": {
          "base_uri": "https://localhost:8080/",
          "height": 295
        },
        "id": "mB_h5832SuRP",
        "outputId": "79af5a9e-d788-4662-d368-c5be06be1a13"
      },
      "source": [
        "y_pred_prob = grid_search.predict_proba(X_test)[:,1]\n",
        "fpr, tpr,thresholds = roc_curve(y_test, y_pred_prob)\n",
        "# Plot ROC curve\n",
        "plt.plot([0, 1], [0, 1], 'k--')\n",
        "plt.plot(fpr, tpr)\n",
        "plt.xlabel('False Positive Rate')\n",
        "plt.ylabel('True Positive Rate')\n",
        "plt.title('ROC Curve')\n",
        "plt.show()"
      ],
      "execution_count": 18,
      "outputs": [
        {
          "output_type": "display_data",
          "data": {
            "image/png": "[encoded data removed]",
            "text/plain": [
              "<Figure size 432x288 with 1 Axes>"
            ]
          },
          "metadata": {
            "tags": [],
            "needs_background": "light"
          }
        }
      ]
    },
    {
      "cell_type": "code",
      "metadata": {
        "colab": {
          "base_uri": "https://localhost:8080/"
        },
        "id": "Ar7bnzi_TG0F",
        "outputId": "020bcc22-cadc-4252-874e-e1b0e761e732"
      },
      "source": [
        "metrics.auc(fpr, tpr)"
      ],
      "execution_count": 19,
      "outputs": [
        {
          "output_type": "execute_result",
          "data": {
            "text/plain": [
              "0.7576466916354556"
            ]
          },
          "metadata": {
            "tags": []
          },
          "execution_count": 19
        }
      ]
    },
    {
      "cell_type": "code",
      "metadata": {
        "id": "yiHMX33-3tme"
      },
      "source": [
        "orig_f1= f1_score(y_test,y_pred)"
      ],
      "execution_count": 62,
      "outputs": []
    },
    {
      "cell_type": "code",
      "metadata": {
        "id": "hAmJZfXDXg4N"
      },
      "source": [
        "##### Evaluate Fairness"
      ],
      "execution_count": null,
      "outputs": []
    },
    {
      "cell_type": "code",
      "metadata": {
        "colab": {
          "base_uri": "https://localhost:8080/"
        },
        "id": "ZF89r3AJXg8C",
        "outputId": "fd357452-3a7c-429a-f33c-fa0b42700fbd"
      },
      "source": [
        "### Anti-classification\n",
        "print(X_test.shape, y_pred.shape)"
      ],
      "execution_count": 21,
      "outputs": [
        {
          "output_type": "stream",
          "text": [
            "(250, 24) (250,)\n"
          ],
          "name": "stdout"
        }
      ]
    },
    {
      "cell_type": "code",
      "metadata": {
        "colab": {
          "base_uri": "https://localhost:8080/"
        },
        "id": "ROXKCz2ibdVU",
        "outputId": "a8d46480-59b7-406a-f901-dda6c61129ef"
      },
      "source": [
        "# Sex_Male: Column 11\n",
        "Male_test = X_test[X_test[:,11]==1]\n",
        "Female_test = X_test[X_test[:,11]==0]\n",
        "print(Male_test.shape[0]+Female_test.shape[0])"
      ],
      "execution_count": 22,
      "outputs": [
        {
          "output_type": "stream",
          "text": [
            "250\n"
          ],
          "name": "stdout"
        }
      ]
    },
    {
      "cell_type": "code",
      "metadata": {
        "id": "lhlmiGcYcEkA"
      },
      "source": [
        "Male_orig_pred = grid_search.predict(Male_test)\n",
        "Female_orig_pred = grid_search.predict(Female_test)"
      ],
      "execution_count": 23,
      "outputs": []
    },
    {
      "cell_type": "code",
      "metadata": {
        "id": "EpJGQcxHcdx3"
      },
      "source": [
        "# Flip Sex and predict label\n",
        "Male_test[:,11]=0\n",
        "Female_test[:,11]=1\n",
        "Male_flipped_pred = grid_search.predict(Male_test)\n",
        "Female_flipped_pred = grid_search.predict(Female_test)"
      ],
      "execution_count": 24,
      "outputs": []
    },
    {
      "cell_type": "code",
      "metadata": {
        "colab": {
          "base_uri": "https://localhost:8080/"
        },
        "id": "wswG5QVjdjMG",
        "outputId": "f713298f-f02c-44e0-a213-5d73c33a3156"
      },
      "source": [
        "np.sum(Male_orig_pred == Male_flipped_pred)/Male_orig_pred.shape[0]"
      ],
      "execution_count": 25,
      "outputs": [
        {
          "output_type": "execute_result",
          "data": {
            "text/plain": [
              "0.96045197740113"
            ]
          },
          "metadata": {
            "tags": []
          },
          "execution_count": 25
        }
      ]
    },
    {
      "cell_type": "code",
      "metadata": {
        "colab": {
          "base_uri": "https://localhost:8080/"
        },
        "id": "QBzuxpREdwcZ",
        "outputId": "f740504f-0b45-4a70-9a60-006fe21edf37"
      },
      "source": [
        "np.sum(Female_orig_pred == Female_flipped_pred)/Female_orig_pred.shape[0]"
      ],
      "execution_count": 26,
      "outputs": [
        {
          "output_type": "execute_result",
          "data": {
            "text/plain": [
              "0.9178082191780822"
            ]
          },
          "metadata": {
            "tags": []
          },
          "execution_count": 26
        }
      ]
    },
    {
      "cell_type": "code",
      "metadata": {
        "colab": {
          "base_uri": "https://localhost:8080/"
        },
        "id": "5W3yKYDxQwi0",
        "outputId": "14089c15-91f7-4272-e529-7318aa4d2239"
      },
      "source": [
        "np.sum(np.hstack([Male_orig_pred,Female_orig_pred])==np.hstack([Male_flipped_pred,Female_flipped_pred]))/(Male_orig_pred.shape[0]+Female_orig_pred.shape[0])"
      ],
      "execution_count": null,
      "outputs": [
        {
          "output_type": "execute_result",
          "data": {
            "text/plain": [
              "0.948"
            ]
          },
          "metadata": {
            "tags": []
          },
          "execution_count": 67
        }
      ]
    },
    {
      "cell_type": "code",
      "metadata": {
        "id": "HAPKO1OeeT74"
      },
      "source": [
        "# Age column 21:24 Index(['Age_cat_Young', 'Age_cat_Adult', 'Age_cat_Senior'], dtype='object')\n",
        "young_test = X_test[X_test[:,21]==1]\n",
        "adult_test = X_test[X_test[:,22]==1]\n",
        "senior_test = X_test[X_test[:,23]==1]\n",
        "student_test = X_test[np.argwhere((X_test[:,21]==0) & (X_test[:,22]==0) & (X_test[:,23]==0)).flatten()]"
      ],
      "execution_count": 27,
      "outputs": []
    },
    {
      "cell_type": "code",
      "metadata": {
        "id": "I2MZqMUieT9-"
      },
      "source": [
        "young_orig_pred = grid_search.predict(young_test)\n",
        "adult_orig_pred = grid_search.predict(adult_test)\n",
        "senior_orig_pred = grid_search.predict(senior_test)\n",
        "student_orig_pred = grid_search.predict(student_test)"
      ],
      "execution_count": 28,
      "outputs": []
    },
    {
      "cell_type": "code",
      "metadata": {
        "id": "HpkNH41FfRjQ"
      },
      "source": [
        "young_test[:,21]=0\n",
        "adult_test[:,22]=0\n",
        "senior_test[:,23]=0\n",
        "student_test[:,[21,22,23]]=0\n",
        "young_flip_pred = grid_search.predict(young_test)\n",
        "adult_flip_pred = grid_search.predict(adult_test)\n",
        "senior_flip_pred = grid_search.predict(senior_test)\n",
        "student_flip_pred = grid_search.predict(student_test)"
      ],
      "execution_count": 29,
      "outputs": []
    },
    {
      "cell_type": "code",
      "metadata": {
        "colab": {
          "base_uri": "https://localhost:8080/"
        },
        "id": "-0SnwUINSKrD",
        "outputId": "dcbb464f-63ae-47e7-d620-112ada630ac2"
      },
      "source": [
        "np.sum(np.hstack([young_orig_pred,adult_orig_pred,senior_orig_pred,student_orig_pred])==np.hstack([young_flip_pred,adult_flip_pred,senior_flip_pred,student_flip_pred]))/X_test.shape[0]"
      ],
      "execution_count": 30,
      "outputs": [
        {
          "output_type": "execute_result",
          "data": {
            "text/plain": [
              "0.976"
            ]
          },
          "metadata": {
            "tags": []
          },
          "execution_count": 30
        }
      ]
    },
    {
      "cell_type": "code",
      "metadata": {
        "id": "munGh8DaeI8-"
      },
      "source": [
        "### Independence"
      ],
      "execution_count": null,
      "outputs": []
    },
    {
      "cell_type": "code",
      "metadata": {
        "id": "wVu7aTbOeOB9"
      },
      "source": [
        "# Sex Independence\n",
        "prediction = grid_search.predict(X_test)"
      ],
      "execution_count": 31,
      "outputs": []
    },
    {
      "cell_type": "code",
      "metadata": {
        "colab": {
          "base_uri": "https://localhost:8080/"
        },
        "id": "8J4wXt4Jgy7x",
        "outputId": "3279806a-e829-49e2-b939-3b5c37488cb0"
      },
      "source": [
        "total_positive = np.sum((prediction ==1))\n",
        "positive_female = np.sum((X_test[:,11]==0) * (prediction == 1))\n",
        "positive_male = np.sum((X_test[:,11]==1) * (prediction == 1))\n",
        "print(total_positive,  positive_female, positive_male)"
      ],
      "execution_count": 32,
      "outputs": [
        {
          "output_type": "stream",
          "text": [
            "53 19 34\n"
          ],
          "name": "stdout"
        }
      ]
    },
    {
      "cell_type": "code",
      "metadata": {
        "colab": {
          "base_uri": "https://localhost:8080/"
        },
        "id": "MeStyWyrjmL1",
        "outputId": "3141af66-5b56-4662-bb40-57d8c4941641"
      },
      "source": [
        "print(Male_test.shape[0],Female_test.shape[0])"
      ],
      "execution_count": 33,
      "outputs": [
        {
          "output_type": "stream",
          "text": [
            "177 73\n"
          ],
          "name": "stdout"
        }
      ]
    },
    {
      "cell_type": "code",
      "metadata": {
        "colab": {
          "base_uri": "https://localhost:8080/"
        },
        "id": "Umnu-XB7h4Xr",
        "outputId": "c5886320-9304-466e-f3a3-c04735ae0046"
      },
      "source": [
        "# 80% rule\n",
        "(positive_female/total_positive)/(positive_male/total_positive)"
      ],
      "execution_count": 35,
      "outputs": [
        {
          "output_type": "execute_result",
          "data": {
            "text/plain": [
              "0.5588235294117647"
            ]
          },
          "metadata": {
            "tags": []
          },
          "execution_count": 35
        }
      ]
    },
    {
      "cell_type": "code",
      "metadata": {
        "id": "4R2Judi2kAUu"
      },
      "source": [
        "# Age Independence\n",
        "positive_young = np.sum((X_test[:,21]==1) * (prediction == 1))"
      ],
      "execution_count": 36,
      "outputs": []
    },
    {
      "cell_type": "code",
      "metadata": {
        "id": "42B3ybcFlB4v"
      },
      "source": [
        "positive_adult = np.sum((X_test[:,22]==1) * (prediction == 1))\n",
        "positive_senior = np.sum((X_test[:,23]==1) * (prediction == 1))"
      ],
      "execution_count": 37,
      "outputs": []
    },
    {
      "cell_type": "code",
      "metadata": {
        "colab": {
          "base_uri": "https://localhost:8080/"
        },
        "id": "Li2NOdO4lS_c",
        "outputId": "770cc935-ff07-40e7-a433-34edb2952eb5"
      },
      "source": [
        "(positive_adult/total_positive)/(positive_young/total_positive) "
      ],
      "execution_count": 38,
      "outputs": [
        {
          "output_type": "execute_result",
          "data": {
            "text/plain": [
              "0.6190476190476191"
            ]
          },
          "metadata": {
            "tags": []
          },
          "execution_count": 38
        }
      ]
    },
    {
      "cell_type": "code",
      "metadata": {
        "colab": {
          "base_uri": "https://localhost:8080/"
        },
        "id": "Wmwma-T4liPD",
        "outputId": "962ac94e-9faf-44dd-ca41-bfea7397c583"
      },
      "source": [
        "(positive_senior/total_positive)/(positive_young/total_positive) "
      ],
      "execution_count": 39,
      "outputs": [
        {
          "output_type": "execute_result",
          "data": {
            "text/plain": [
              "0.09523809523809523"
            ]
          },
          "metadata": {
            "tags": []
          },
          "execution_count": 39
        }
      ]
    },
    {
      "cell_type": "code",
      "metadata": {
        "colab": {
          "base_uri": "https://localhost:8080/"
        },
        "id": "xnrEaUxzlqas",
        "outputId": "91fe0d08-927c-4bbe-817c-6c149c0e7815"
      },
      "source": [
        "((total_positive-positive_young-positive_adult-positive_senior)/total_positive)/(positive_young/total_positive)"
      ],
      "execution_count": 41,
      "outputs": [
        {
          "output_type": "execute_result",
          "data": {
            "text/plain": [
              "0.8095238095238094"
            ]
          },
          "metadata": {
            "tags": []
          },
          "execution_count": 41
        }
      ]
    },
    {
      "cell_type": "code",
      "metadata": {
        "id": "gRmsSXRUmYim"
      },
      "source": [
        "### Separation"
      ],
      "execution_count": null,
      "outputs": []
    },
    {
      "cell_type": "code",
      "metadata": {
        "id": "eyX-QFHqmqsB"
      },
      "source": [
        "# Sex\n",
        "Male_idx = np.argwhere(X_test[:,11]==1)\n",
        "Female_idx  = np.argwhere(X_test[:,11]==0)"
      ],
      "execution_count": 42,
      "outputs": []
    },
    {
      "cell_type": "code",
      "metadata": {
        "id": "M8XN71qwnfKL"
      },
      "source": [
        "Male_ytest = y_test[Male_idx].flatten()\n",
        "Female_ytest = y_test[Female_idx].flatten()"
      ],
      "execution_count": 44,
      "outputs": []
    },
    {
      "cell_type": "code",
      "metadata": {
        "colab": {
          "base_uri": "https://localhost:8080/"
        },
        "id": "7A5RsfXLmie9",
        "outputId": "c0ff88db-befd-46f6-a6dd-23f17488c383"
      },
      "source": [
        "Male_ypred = grid_search.predict(Male_test)\n",
        "M_c = confusion_matrix(Male_ytest, Male_ypred)\n",
        "M_c"
      ],
      "execution_count": 45,
      "outputs": [
        {
          "output_type": "execute_result",
          "data": {
            "text/plain": [
              "array([[111,  16],\n",
              "       [ 25,  25]])"
            ]
          },
          "metadata": {
            "tags": []
          },
          "execution_count": 45
        }
      ]
    },
    {
      "cell_type": "code",
      "metadata": {
        "colab": {
          "base_uri": "https://localhost:8080/"
        },
        "id": "3HG_0af4oe8H",
        "outputId": "292f7719-9cde-416c-eabb-f85458f05521"
      },
      "source": [
        "Female_ypred = grid_search.predict(Female_test)\n",
        "F_c = confusion_matrix(Female_ytest, Female_ypred)\n",
        "F_c"
      ],
      "execution_count": 46,
      "outputs": [
        {
          "output_type": "execute_result",
          "data": {
            "text/plain": [
              "array([[43,  8],\n",
              "       [13,  9]])"
            ]
          },
          "metadata": {
            "tags": []
          },
          "execution_count": 46
        }
      ]
    },
    {
      "cell_type": "code",
      "metadata": {
        "colab": {
          "base_uri": "https://localhost:8080/"
        },
        "id": "iznKdlkxorme",
        "outputId": "777036d2-5529-4ecb-83ae-bf1f6301bb93"
      },
      "source": [
        "# False negative rate.    supposed to be positive but not...\n",
        "M_FNR = M_c[1,0]/(M_c[1,0]+M_c[1,1])\n",
        "F_FNR = F_c[1,0]/(F_c[1,0]+F_c[1,1])\n",
        "print(M_FNR, F_FNR)"
      ],
      "execution_count": 47,
      "outputs": [
        {
          "output_type": "stream",
          "text": [
            "0.5 0.5909090909090909\n"
          ],
          "name": "stdout"
        }
      ]
    },
    {
      "cell_type": "code",
      "metadata": {
        "colab": {
          "base_uri": "https://localhost:8080/"
        },
        "id": "6yj-AS1qqaMu",
        "outputId": "ba254b05-d99a-4173-8ca5-f877754382d8"
      },
      "source": [
        "# Age \n",
        "young_idx = np.argwhere(X_test[:,21]==1)\n",
        "adult_idx = np.argwhere(X_test[:,22]==1)\n",
        "senior_idx = np.argwhere(X_test[:,23]==1)\n",
        "student_idx = np.argwhere((X_test[:,21]==0) & (X_test[:,22]==0) & (X_test[:,23]==0))\n",
        "young_ytest = y_test[young_idx].flatten()\n",
        "adult_ytest = y_test[adult_idx].flatten() \n",
        "senior_ytest = y_test[senior_idx].flatten()\n",
        "student_ytest =y_test[student_idx].flatten()\n",
        "print(young_ytest.shape[0]+adult_ytest.shape[0]+senior_ytest.shape[0]+student_ytest.shape[0])"
      ],
      "execution_count": 48,
      "outputs": [
        {
          "output_type": "stream",
          "text": [
            "250\n"
          ],
          "name": "stdout"
        }
      ]
    },
    {
      "cell_type": "code",
      "metadata": {
        "id": "LBziWmjwrdZP"
      },
      "source": [
        "young_c = confusion_matrix(young_ytest,young_orig_pred)\n",
        "adult_c = confusion_matrix(adult_ytest,adult_orig_pred)\n",
        "senior_c = confusion_matrix(senior_ytest,senior_orig_pred)\n",
        "student_c = confusion_matrix(student_ytest,grid_search.predict(X_test[student_idx.flatten()]))"
      ],
      "execution_count": 49,
      "outputs": []
    },
    {
      "cell_type": "code",
      "metadata": {
        "id": "03wo-t9ksBbr"
      },
      "source": [
        "def FNR(cm):\n",
        "  return cm[1,0]/(cm[1,0]+cm[1,1])"
      ],
      "execution_count": 50,
      "outputs": []
    },
    {
      "cell_type": "code",
      "metadata": {
        "colab": {
          "base_uri": "https://localhost:8080/"
        },
        "id": "6FXujYubsOTk",
        "outputId": "bf79c139-7ab1-47b0-d023-7c80f0ae5ad1"
      },
      "source": [
        "print(FNR(young_c), FNR(adult_c), FNR(senior_c), FNR(student_c))"
      ],
      "execution_count": 51,
      "outputs": [
        {
          "output_type": "stream",
          "text": [
            "0.6 0.6 0.8 0.35294117647058826\n"
          ],
          "name": "stdout"
        }
      ]
    },
    {
      "cell_type": "code",
      "metadata": {
        "id": "3ftfmdnWshMb"
      },
      "source": [
        "# Improve anticlassification"
      ],
      "execution_count": null,
      "outputs": []
    },
    {
      "cell_type": "code",
      "metadata": {
        "colab": {
          "base_uri": "https://localhost:8080/"
        },
        "id": "HP0RO2-oshO7",
        "outputId": "6d0fdb46-1e2c-4323-f496-64814cded70c"
      },
      "source": [
        "X_train_improved = np.delete(X_train,11,1)\n",
        "X_test_improved = np.delete(X_test,11,1)\n",
        "X_train_improved.shape"
      ],
      "execution_count": 53,
      "outputs": [
        {
          "output_type": "execute_result",
          "data": {
            "text/plain": [
              "(750, 23)"
            ]
          },
          "metadata": {
            "tags": []
          },
          "execution_count": 53
        }
      ]
    },
    {
      "cell_type": "code",
      "metadata": {
        "colab": {
          "base_uri": "https://localhost:8080/"
        },
        "id": "b1Z74LrUshQy",
        "outputId": "8fe02408-9633-41bc-855d-663e3432c737"
      },
      "source": [
        "grid_search.best_params_"
      ],
      "execution_count": 52,
      "outputs": [
        {
          "output_type": "execute_result",
          "data": {
            "text/plain": [
              "{'colsample_bytree': 0.75,\n",
              " 'gamma': 0.1,\n",
              " 'max_depth': 10,\n",
              " 'min_child_weight': 3,\n",
              " 'subsample': 0.85}"
            ]
          },
          "metadata": {
            "tags": []
          },
          "execution_count": 52
        }
      ]
    },
    {
      "cell_type": "code",
      "metadata": {
        "colab": {
          "base_uri": "https://localhost:8080/"
        },
        "id": "u1Qst5gpYb_v",
        "outputId": "116b6260-ab93-4861-a5b8-2e117017cf1f"
      },
      "source": [
        "model_xg_improve = XGBClassifier(random_state=2,max_depth=10,colsample_bytree=0.75,gamma=0.1,min_child_weight=3,subsample=0.85)\n",
        "model_xg_improve.fit(X_train_improved, y_train)"
      ],
      "execution_count": 54,
      "outputs": [
        {
          "output_type": "execute_result",
          "data": {
            "text/plain": [
              "XGBClassifier(base_score=0.5, booster='gbtree', colsample_bylevel=1,\n",
              "              colsample_bynode=1, colsample_bytree=0.75, gamma=0.1,\n",
              "              learning_rate=0.1, max_delta_step=0, max_depth=10,\n",
              "              min_child_weight=3, missing=None, n_estimators=100, n_jobs=1,\n",
              "              nthread=None, objective='binary:logistic', random_state=2,\n",
              "              reg_alpha=0, reg_lambda=1, scale_pos_weight=1, seed=None,\n",
              "              silent=None, subsample=0.85, verbosity=1)"
            ]
          },
          "metadata": {
            "tags": []
          },
          "execution_count": 54
        }
      ]
    },
    {
      "cell_type": "code",
      "metadata": {
        "colab": {
          "base_uri": "https://localhost:8080/"
        },
        "id": "Yy15ezigZXwM",
        "outputId": "3165040f-fed0-4d78-871d-2be4512c80cb"
      },
      "source": [
        "y_pred_imp = model_xg_improve.predict(X_test_improved)\n",
        "print(accuracy_score(y_test,y_pred_imp))\n",
        "print(\"\\n\")\n",
        "print(confusion_matrix(y_test, y_pred_imp))"
      ],
      "execution_count": 55,
      "outputs": [
        {
          "output_type": "stream",
          "text": [
            "0.768\n",
            "\n",
            "\n",
            "[[161  17]\n",
            " [ 41  31]]\n"
          ],
          "name": "stdout"
        }
      ]
    },
    {
      "cell_type": "code",
      "metadata": {
        "colab": {
          "base_uri": "https://localhost:8080/",
          "height": 295
        },
        "id": "ggxJLAOIZ9Bc",
        "outputId": "a384258d-606c-451e-8391-d9b504299f66"
      },
      "source": [
        "y_pred_prob = model_xg_improve.predict_proba(X_test_improved)[:,1]\n",
        "fpr, tpr,thresholds = roc_curve(y_test, y_pred_prob)\n",
        "# Plot ROC curve\n",
        "plt.plot([0, 1], [0, 1], 'k--')\n",
        "plt.plot(fpr, tpr)\n",
        "plt.xlabel('False Positive Rate')\n",
        "plt.ylabel('True Positive Rate')\n",
        "plt.title('ROC Curve')\n",
        "plt.show()"
      ],
      "execution_count": 56,
      "outputs": [
        {
          "output_type": "display_data",
          "data": {
            "image/png": "[encoded data removed]",
            "text/plain": [
              "<Figure size 432x288 with 1 Axes>"
            ]
          },
          "metadata": {
            "tags": [],
            "needs_background": "light"
          }
        }
      ]
    },
    {
      "cell_type": "code",
      "metadata": {
        "colab": {
          "base_uri": "https://localhost:8080/"
        },
        "id": "1N0c1i_SaHi7",
        "outputId": "b81154a2-32ad-4a5c-a09d-4f69562eb068"
      },
      "source": [
        "metrics.auc(fpr, tpr)"
      ],
      "execution_count": 57,
      "outputs": [
        {
          "output_type": "execute_result",
          "data": {
            "text/plain": [
              "0.7553448813982523"
            ]
          },
          "metadata": {
            "tags": []
          },
          "execution_count": 57
        }
      ]
    },
    {
      "cell_type": "code",
      "metadata": {
        "colab": {
          "base_uri": "https://localhost:8080/"
        },
        "id": "VQuqd-NaaPzZ",
        "outputId": "4bfbaa80-544e-47fc-c897-e1db68432b03"
      },
      "source": [
        "np.sum(y)"
      ],
      "execution_count": null,
      "outputs": [
        {
          "output_type": "execute_result",
          "data": {
            "text/plain": [
              "300"
            ]
          },
          "metadata": {
            "tags": []
          },
          "execution_count": 57
        }
      ]
    },
    {
      "cell_type": "code",
      "metadata": {
        "colab": {
          "base_uri": "https://localhost:8080/"
        },
        "id": "pzYHWFG8aUqe",
        "outputId": "8c3957d9-0151-48d8-d6dd-1c08ed781afa"
      },
      "source": [
        "y.shape[0]-np.sum(y)"
      ],
      "execution_count": null,
      "outputs": [
        {
          "output_type": "execute_result",
          "data": {
            "text/plain": [
              "700.0"
            ]
          },
          "metadata": {
            "tags": []
          },
          "execution_count": 58
        }
      ]
    },
    {
      "cell_type": "code",
      "metadata": {
        "colab": {
          "base_uri": "https://localhost:8080/"
        },
        "id": "4VPzsqb8cc_R",
        "outputId": "0a0708a7-6459-40f7-bda8-814f15e9e0f8"
      },
      "source": [
        "thresholds"
      ],
      "execution_count": null,
      "outputs": [
        {
          "output_type": "execute_result",
          "data": {
            "text/plain": [
              "array([1.970545  , 0.9705451 , 0.94185287, 0.94123316, 0.9357126 ,\n",
              "       0.9230051 , 0.90412456, 0.8550583 , 0.85253423, 0.84555334,\n",
              "       0.81606656, 0.802389  , 0.7956115 , 0.79075193, 0.7620288 ,\n",
              "       0.7284179 , 0.7236028 , 0.6965498 , 0.65769666, 0.6010476 ,\n",
              "       0.59987396, 0.59157807, 0.5654473 , 0.5511248 , 0.54402375,\n",
              "       0.5370615 , 0.5312287 , 0.52314144, 0.51734525, 0.50183403,\n",
              "       0.49278384, 0.48536432, 0.4819062 , 0.47792318, 0.44867486,\n",
              "       0.44561523, 0.4365127 , 0.41523603, 0.41018733, 0.3929426 ,\n",
              "       0.391572  , 0.38316625, 0.36002615, 0.33508995, 0.32293448,\n",
              "       0.3198641 , 0.3121668 , 0.30765682, 0.29785305, 0.29443473,\n",
              "       0.29259354, 0.2855525 , 0.27571708, 0.27136   , 0.22189254,\n",
              "       0.21562958, 0.1862022 , 0.17646322, 0.17301823, 0.17253909,\n",
              "       0.1632855 , 0.16057819, 0.1408955 , 0.13924168, 0.13779129,\n",
              "       0.1350794 , 0.11124785, 0.11009524, 0.10854986, 0.10467137,\n",
              "       0.09660263, 0.09598185, 0.09452936, 0.09223706, 0.08817188,\n",
              "       0.08762749, 0.08460081, 0.08354943, 0.07640445, 0.07616621,\n",
              "       0.0617197 , 0.05980862, 0.0572748 , 0.05673834, 0.05510987,\n",
              "       0.05312872, 0.04613213, 0.04401824, 0.0357291 , 0.03500854,\n",
              "       0.03390714, 0.03387615, 0.0293571 , 0.02927682, 0.01211047],\n",
              "      dtype=float32)"
            ]
          },
          "metadata": {
            "tags": []
          },
          "execution_count": 59
        }
      ]
    },
    {
      "cell_type": "code",
      "metadata": {
        "id": "LTdJvXuiaY0z"
      },
      "source": [
        "### Improve Independence"
      ],
      "execution_count": null,
      "outputs": []
    },
    {
      "cell_type": "code",
      "metadata": {
        "id": "_Z3gfD07kOpu"
      },
      "source": [
        "threshold_male = np.arange(0,1,0.01)\n",
        "threshold_female = np.arange(0,1,0.01)"
      ],
      "execution_count": 58,
      "outputs": []
    },
    {
      "cell_type": "code",
      "metadata": {
        "colab": {
          "base_uri": "https://localhost:8080/"
        },
        "id": "4wpRwMZQkcAj",
        "outputId": "08e89969-c9bf-450e-c7cd-fb9d403975ef"
      },
      "source": [
        "threshold_male.shape"
      ],
      "execution_count": 59,
      "outputs": [
        {
          "output_type": "execute_result",
          "data": {
            "text/plain": [
              "(100,)"
            ]
          },
          "metadata": {
            "tags": []
          },
          "execution_count": 59
        }
      ]
    },
    {
      "cell_type": "code",
      "metadata": {
        "colab": {
          "base_uri": "https://localhost:8080/"
        },
        "id": "0g93bN-RtSRu",
        "outputId": "59326d14-4ee2-4f30-bfdd-77bc18ed4ff9"
      },
      "source": [
        "np.hstack([threshold_female,threshold_male]).shape"
      ],
      "execution_count": 60,
      "outputs": [
        {
          "output_type": "execute_result",
          "data": {
            "text/plain": [
              "(200,)"
            ]
          },
          "metadata": {
            "tags": []
          },
          "execution_count": 60
        }
      ]
    },
    {
      "cell_type": "code",
      "metadata": {
        "colab": {
          "base_uri": "https://localhost:8080/"
        },
        "id": "oX2kwvFncoki",
        "outputId": "d1686184-1561-491d-ec8a-448c902f0e7d"
      },
      "source": [
        "male_prob = grid_search.predict_proba(Male_test)\n",
        "female_prob = grid_search.predict_proba(Female_test)\n",
        "print('right ', len(male_prob)+len(female_prob))\n",
        "acc = 0\n",
        "m_th=0\n",
        "f_th=0\n",
        "perc = 0\n",
        "for i in range(len(threshold_female)):\n",
        "  for j in range(len(threshold_male)):\n",
        "    male_pred = (male_prob[:,1] >= threshold_male[j]).astype('int')\n",
        "    female_pred = (female_prob[:,1] >= threshold_female[i]).astype('int')\n",
        "    positive_female = np.sum((female_pred == 1))\n",
        "    positive_male = np.sum((male_pred == 1)) \n",
        "    fr = positive_male/Female_test.shape[0]\n",
        "    mr = positive_female/Male_test.shape[0]\n",
        "    test= np.hstack([Male_ytest,Female_ytest])\n",
        "    pred = np.hstack([male_pred, female_pred])\n",
        "    \n",
        "    if fr>mr:\n",
        "      if mr/fr >0.8:\n",
        "        if accuracy_score(test,pred)>acc:\n",
        "          acc = accuracy_score(test,pred)\n",
        "          m_th=threshold_male[j]\n",
        "          f_th = threshold_female[i]\n",
        "          perc = mr/fr\n",
        "    else:\n",
        "      if fr/mr >0.8:\n",
        "        if accuracy_score(test,pred)>acc:\n",
        "          acc = accuracy_score(test,pred)\n",
        "          m_th=threshold_male[j]\n",
        "          f_th = threshold_female[i]\n",
        "          perc = fr/mr\n",
        "print(m_th,f_th,perc,acc)"
      ],
      "execution_count": 61,
      "outputs": [
        {
          "output_type": "stream",
          "text": [
            "right  250\n",
            "0.76 0.25 0.854317998385795 0.74\n"
          ],
          "name": "stdout"
        },
        {
          "output_type": "stream",
          "text": [
            "/usr/local/lib/python3.7/dist-packages/ipykernel_launcher.py:27: RuntimeWarning: invalid value encountered in double_scalars\n"
          ],
          "name": "stderr"
        }
      ]
    },
    {
      "cell_type": "code",
      "metadata": {
        "id": "WR-5NwWNxW9g"
      },
      "source": [
        "### Improve Separation"
      ],
      "execution_count": null,
      "outputs": []
    },
    {
      "cell_type": "code",
      "metadata": {
        "colab": {
          "base_uri": "https://localhost:8080/"
        },
        "id": "89dHkCFaxXAI",
        "outputId": "b63b1284-1ca7-4d58-d37e-3b4401a05fce"
      },
      "source": [
        "m_th = 0 \n",
        "f_th = 0\n",
        "FNR_f = 0\n",
        "acc= 0\n",
        "for i in range(len(threshold_female)):\n",
        "  for j in range(len(threshold_male)):\n",
        "    male_pred = (male_prob[:,1] >= threshold_male[j]).astype('int')\n",
        "    female_pred = (female_prob[:,1] >= threshold_female[i]).astype('int')\n",
        "    M_c = confusion_matrix(Male_ytest, male_pred)\n",
        "    F_c = confusion_matrix(Female_ytest, female_pred)\n",
        "    test= np.hstack([Male_ytest,Female_ytest])\n",
        "    pred = np.hstack([male_pred, female_pred])\n",
        "    M_FNR = FNR(M_c)\n",
        "    F_FNR = FNR(F_c)\n",
        "    # print(M_FNR, F_FNR)\n",
        "    if M_FNR<F_FNR:\n",
        "      if M_FNR/F_FNR>0.999 and (f1_score(test,pred)>orig_f1*0.8):\n",
        "        m_th = threshold_male[j]\n",
        "        f_th = threshold_female[i]\n",
        "        FNR_f = M_FNR\n",
        "        print(m_th, f_th, M_FNR,F_FNR,accuracy_score(test,pred),f1_score(test,pred))\n",
        "    else:\n",
        "      if F_FNR/M_FNR>0.999 and (f1_score(test,pred)>orig_f1*0.8):\n",
        "          m_th = threshold_male[j]\n",
        "          f_th = threshold_female[i]\n",
        "          FNR_f = M_FNR\n",
        "          print(m_th, f_th, M_FNR,F_FNR,accuracy_score(test,pred),f1_score(test,pred))\n",
        "# print(m_th,f_th,FNR_f)"
      ],
      "execution_count": 65,
      "outputs": [
        {
          "output_type": "stream",
          "text": [
            "/usr/local/lib/python3.7/dist-packages/ipykernel_launcher.py:23: RuntimeWarning: invalid value encountered in double_scalars\n"
          ],
          "name": "stderr"
        },
        {
          "output_type": "stream",
          "text": [
            "0.5 0.34 0.5 0.5 0.752 0.537313432835821\n",
            "0.5 0.35000000000000003 0.5 0.5 0.752 0.537313432835821\n",
            "0.5 0.36 0.5 0.5 0.752 0.537313432835821\n",
            "0.5 0.37 0.5 0.5 0.752 0.537313432835821\n",
            "0.5 0.38 0.5 0.5 0.752 0.537313432835821\n",
            "0.5 0.39 0.5 0.5 0.752 0.537313432835821\n",
            "0.5 0.4 0.5 0.5 0.752 0.537313432835821\n",
            "0.5 0.41000000000000003 0.5 0.5 0.752 0.537313432835821\n"
          ],
          "name": "stdout"
        }
      ]
    }
  ]
}